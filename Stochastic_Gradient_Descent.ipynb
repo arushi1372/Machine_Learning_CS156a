{
 "cells": [
  {
   "cell_type": "code",
   "execution_count": 36,
   "metadata": {},
   "outputs": [],
   "source": [
    "import numpy as np"
   ]
  },
  {
   "cell_type": "code",
   "execution_count": 79,
   "metadata": {},
   "outputs": [],
   "source": [
    "def E_function(point):\n",
    "    u = point[0]\n",
    "    v = point[1]\n",
    "    return (u*np.exp(v) - 2*v*np.exp(-u))**2"
   ]
  },
  {
   "cell_type": "code",
   "execution_count": 77,
   "metadata": {},
   "outputs": [],
   "source": [
    "iteration = 0\n",
    "point = np.array([1, 1])\n",
    "E_value = E_function(point)\n",
    "while E_value > (10**(-14)):\n",
    "    u = point[0]\n",
    "    v = point[1]\n",
    "    gradient = np.array([(2*(np.exp(v) + 2*v*np.exp(-u))*(u*np.exp(v) - 2*v*np.exp(-u))), \n",
    "                (2*(u*np.exp(v) - 2*v*np.exp(-u))*(u*np.exp(v) - 2*np.exp(-u)))])\n",
    "    point = point - (0.1*gradient)\n",
    "    iteration += 1\n",
    "    E_value = (E_function(point))"
   ]
  },
  {
   "cell_type": "code",
   "execution_count": 78,
   "metadata": {},
   "outputs": [
    {
     "name": "stdout",
     "output_type": "stream",
     "text": [
      "10\n",
      "[0.04473629 0.02395871]\n"
     ]
    }
   ],
   "source": [
    "print(iteration)\n",
    "print(point)"
   ]
  },
  {
   "cell_type": "code",
   "execution_count": 66,
   "metadata": {},
   "outputs": [],
   "source": [
    "#coordinate descent"
   ]
  },
  {
   "cell_type": "code",
   "execution_count": 105,
   "metadata": {},
   "outputs": [
    {
     "name": "stdout",
     "output_type": "stream",
     "text": [
      "0.13265544207276433\n"
     ]
    }
   ],
   "source": [
    "iteration = 0\n",
    "point = np.array([1.0, 1.0])\n",
    "\n",
    "def coord_descent(p, index):\n",
    "    u, v = p\n",
    "    gradient = np.array([(2*(np.exp(v) + 2*v*np.exp(-u))*(u*np.exp(v) - 2*v*np.exp(-u))), \n",
    "                (2*(u*np.exp(v) - 2*v*np.exp(-u))*(u*np.exp(v) - 2*np.exp(-u)))])\n",
    "    p[index] = p[index] - (0.1*gradient[index])\n",
    "    return p\n",
    "    \n",
    "while iteration <= 30:\n",
    "    for i in range(2):\n",
    "        point = coord_descent(point, i)\n",
    "    iteration += 2\n",
    "print(E_function(point))"
   ]
  },
  {
   "cell_type": "code",
   "execution_count": null,
   "metadata": {},
   "outputs": [],
   "source": []
  },
  {
   "cell_type": "code",
   "execution_count": 10,
   "metadata": {},
   "outputs": [],
   "source": [
    "#8, 9"
   ]
  },
  {
   "cell_type": "code",
   "execution_count": 161,
   "metadata": {},
   "outputs": [],
   "source": [
    "def stochastic(N):\n",
    "    \n",
    "    #select two points and create a line\n",
    "    x1, y1 = np.random.uniform(-1, 1, 2)\n",
    "    x2, y2 = np.random.uniform(-1, 1, 2)\n",
    "    slope = (y2-y1)/(x2-x1)\n",
    "    intercept = y2 - (slope*x2)\n",
    "    \n",
    "    #determine the outputs of N random points based on the line defined above\n",
    "    xN = []\n",
    "    outputs = []\n",
    "    for i in range(N):\n",
    "        point = [1]\n",
    "        x, y = np.random.uniform(-1, 1, 2)\n",
    "        point.append(x)\n",
    "        point.append(y)\n",
    "        xN.append(np.array(point))\n",
    "        output = np.sign(y - (slope*x + intercept))\n",
    "        outputs.append(output) \n",
    "    \n",
    "    epoch = 0\n",
    "    w = [0, 0,0]\n",
    "    stop = False\n",
    "    while stop == False:\n",
    "        w_old = w\n",
    "        #create permutation of indices to go through points in a random order\n",
    "        stochastic = np.random.permutation(N)\n",
    "        for index in stochastic:\n",
    "            y = outputs[index]\n",
    "            x = xN[index]\n",
    "            wT = np.transpose(w)\n",
    "            #compute the gradient\n",
    "            gradient = (-y*x)/(1 + np.exp(y*np.dot(x, wT)))\n",
    "            w = w - (0.01*gradient)\n",
    "        w_new = w\n",
    "        epoch += 1\n",
    "        #check for stopping condition\n",
    "        if np.linalg.norm(w_old - w_new) < 0.01:\n",
    "            stop = True\n",
    "        else:\n",
    "            w = w_new\n",
    "    \n",
    "    #generate new points\n",
    "    x_test = []\n",
    "    outputs_test = []\n",
    "    for i in range(N):\n",
    "        point = [1]\n",
    "        x, y = np.random.uniform(-1, 1, 2)\n",
    "        point.append(x)\n",
    "        point.append(y)\n",
    "        x_test.append(np.array(point))\n",
    "        output = np.sign(y - (slope*x + intercept))\n",
    "        outputs_test.append(output) \n",
    "\n",
    "    #find cross-entropy error\n",
    "    summation = 0\n",
    "    for j in range(N):\n",
    "        yn = outputs_test[j]\n",
    "        xn = x_test[j]\n",
    "        weight = np.transpose(w)\n",
    "        add = np.log(1 + np.exp(-yn * np.dot(xn, weight)))\n",
    "        summation += add\n",
    "    E_out = (1/N) * summation\n",
    "    \n",
    "    return E_out, epoch"
   ]
  },
  {
   "cell_type": "code",
   "execution_count": 164,
   "metadata": {},
   "outputs": [
    {
     "name": "stdout",
     "output_type": "stream",
     "text": [
      "0.09740650352244687\n",
      "343.91\n"
     ]
    }
   ],
   "source": [
    "E_outs = []\n",
    "epochs = []\n",
    "#run stochastic gradient descent 100 times\n",
    "for i in range(100):\n",
    "    E_out, epoch = stochastic(100)\n",
    "    epochs.append(epoch)\n",
    "    E_outs.append(E_out)\n",
    "print(np.average(E_outs))\n",
    "print(np.average(epochs))"
   ]
  }
 ],
 "metadata": {
  "kernelspec": {
   "display_name": "Python 3",
   "language": "python",
   "name": "python3"
  },
  "language_info": {
   "codemirror_mode": {
    "name": "ipython",
    "version": 3
   },
   "file_extension": ".py",
   "mimetype": "text/x-python",
   "name": "python",
   "nbconvert_exporter": "python",
   "pygments_lexer": "ipython3",
   "version": "3.7.1"
  }
 },
 "nbformat": 4,
 "nbformat_minor": 2
}
