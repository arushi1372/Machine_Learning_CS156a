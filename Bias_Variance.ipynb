{
 "cells": [
  {
   "cell_type": "code",
   "execution_count": 3,
   "metadata": {},
   "outputs": [],
   "source": [
    "import matplotlib.pyplot as plt\n",
    "import numpy as np"
   ]
  },
  {
   "cell_type": "code",
   "execution_count": 25,
   "metadata": {},
   "outputs": [
    {
     "ename": "NameError",
     "evalue": "name 'yc' is not defined",
     "output_type": "error",
     "traceback": [
      "\u001b[0;31m---------------------------------------------------------------------------\u001b[0m",
      "\u001b[0;31mNameError\u001b[0m                                 Traceback (most recent call last)",
      "\u001b[0;32m<ipython-input-25-84b87a3a7cec>\u001b[0m in \u001b[0;36m<module>\u001b[0;34m\u001b[0m\n\u001b[1;32m      2\u001b[0m \u001b[0mya\u001b[0m \u001b[0;34m=\u001b[0m \u001b[0mnp\u001b[0m\u001b[0;34m.\u001b[0m\u001b[0msqrt\u001b[0m\u001b[0;34m(\u001b[0m\u001b[0;34m(\u001b[0m\u001b[0;36m8\u001b[0m\u001b[0;34m/\u001b[0m\u001b[0mx\u001b[0m\u001b[0;34m)\u001b[0m \u001b[0;34m*\u001b[0m \u001b[0mnp\u001b[0m\u001b[0;34m.\u001b[0m\u001b[0mlog\u001b[0m\u001b[0;34m(\u001b[0m\u001b[0;34m(\u001b[0m\u001b[0;36m4\u001b[0m\u001b[0;34m*\u001b[0m\u001b[0;34m(\u001b[0m\u001b[0;34m(\u001b[0m\u001b[0;36m2\u001b[0m\u001b[0;34m*\u001b[0m\u001b[0mx\u001b[0m\u001b[0;34m)\u001b[0m\u001b[0;34m^\u001b[0m\u001b[0;36m50\u001b[0m\u001b[0;34m)\u001b[0m\u001b[0;34m)\u001b[0m\u001b[0;34m/\u001b[0m\u001b[0;34m(\u001b[0m\u001b[0;36m0.05\u001b[0m\u001b[0;34m)\u001b[0m\u001b[0;34m)\u001b[0m\u001b[0;34m)\u001b[0m\u001b[0;34m\u001b[0m\u001b[0;34m\u001b[0m\u001b[0m\n\u001b[1;32m      3\u001b[0m \u001b[0myb\u001b[0m \u001b[0;34m=\u001b[0m \u001b[0mnp\u001b[0m\u001b[0;34m.\u001b[0m\u001b[0msqrt\u001b[0m\u001b[0;34m(\u001b[0m\u001b[0;34m(\u001b[0m\u001b[0;36m2\u001b[0m\u001b[0;34m*\u001b[0m\u001b[0mnp\u001b[0m\u001b[0;34m.\u001b[0m\u001b[0mlog\u001b[0m\u001b[0;34m(\u001b[0m\u001b[0;36m2\u001b[0m\u001b[0;34m*\u001b[0m\u001b[0mx\u001b[0m\u001b[0;34m*\u001b[0m\u001b[0;34m(\u001b[0m\u001b[0mx\u001b[0m\u001b[0;34m^\u001b[0m\u001b[0;36m50\u001b[0m\u001b[0;34m)\u001b[0m\u001b[0;34m)\u001b[0m\u001b[0;34m)\u001b[0m\u001b[0;34m/\u001b[0m\u001b[0mx\u001b[0m\u001b[0;34m)\u001b[0m \u001b[0;34m+\u001b[0m \u001b[0mnp\u001b[0m\u001b[0;34m.\u001b[0m\u001b[0msqrt\u001b[0m\u001b[0;34m(\u001b[0m\u001b[0;34m(\u001b[0m\u001b[0;36m2\u001b[0m\u001b[0;34m*\u001b[0m\u001b[0mnp\u001b[0m\u001b[0;34m.\u001b[0m\u001b[0mlog\u001b[0m\u001b[0;34m(\u001b[0m\u001b[0;36m1\u001b[0m\u001b[0;34m/\u001b[0m\u001b[0;36m0.05\u001b[0m\u001b[0;34m)\u001b[0m\u001b[0;34m)\u001b[0m\u001b[0;34m/\u001b[0m\u001b[0mx\u001b[0m\u001b[0;34m)\u001b[0m \u001b[0;34m+\u001b[0m \u001b[0;34m(\u001b[0m\u001b[0;36m1\u001b[0m\u001b[0;34m/\u001b[0m\u001b[0mx\u001b[0m\u001b[0;34m)\u001b[0m\u001b[0;34m\u001b[0m\u001b[0;34m\u001b[0m\u001b[0m\n\u001b[0;32m----> 4\u001b[0;31m \u001b[0myc\u001b[0m \u001b[0;34m=\u001b[0m \u001b[0mnp\u001b[0m\u001b[0;34m.\u001b[0m\u001b[0msqrt\u001b[0m\u001b[0;34m(\u001b[0m\u001b[0;34m(\u001b[0m\u001b[0;36m2\u001b[0m\u001b[0;34m*\u001b[0m\u001b[0myc\u001b[0m \u001b[0;34m+\u001b[0m \u001b[0mnp\u001b[0m\u001b[0;34m.\u001b[0m\u001b[0mlog\u001b[0m\u001b[0;34m(\u001b[0m\u001b[0;34m(\u001b[0m\u001b[0;36m6\u001b[0m\u001b[0;34m*\u001b[0m\u001b[0;34m(\u001b[0m\u001b[0;36m2\u001b[0m\u001b[0;34m*\u001b[0m\u001b[0mx\u001b[0m\u001b[0;34m)\u001b[0m\u001b[0;34m^\u001b[0m\u001b[0;36m50\u001b[0m\u001b[0;34m)\u001b[0m\u001b[0;34m/\u001b[0m\u001b[0;36m0.05\u001b[0m\u001b[0;34m)\u001b[0m\u001b[0;34m/\u001b[0m\u001b[0mx\u001b[0m\u001b[0;34m)\u001b[0m\u001b[0;34m)\u001b[0m\u001b[0;34m\u001b[0m\u001b[0;34m\u001b[0m\u001b[0m\n\u001b[0m",
      "\u001b[0;31mNameError\u001b[0m: name 'yc' is not defined"
     ]
    }
   ],
   "source": [
    "x = np.arange(9000, 11000, 100)\n",
    "ya = np.sqrt((8/x) * np.log((4*((2*x)^50))/(0.05)))\n",
    "yb = np.sqrt((2*np.log(2*x*(x^50)))/x) + np.sqrt((2*np.log(1/0.05))/x) + (1/x)"
   ]
  },
  {
   "cell_type": "code",
   "execution_count": 27,
   "metadata": {},
   "outputs": [
    {
     "data": {
      "text/plain": [
       "Text(0, 0.5, 'epsilon')"
      ]
     },
     "execution_count": 27,
     "metadata": {},
     "output_type": "execute_result"
    },
    {
     "data": {
      "image/png": "[encoded data removed]",
      "text/plain": [
       "<Figure size 432x288 with 1 Axes>"
      ]
     },
     "metadata": {
      "needs_background": "light"
     },
     "output_type": "display_data"
    }
   ],
   "source": [
    "plt.plot(x, ya)\n",
    "plt.plot(x, yb)\n",
    "plt.xlabel('N')\n",
    "plt.ylabel('epsilon')"
   ]
  },
  {
   "cell_type": "code",
   "execution_count": null,
   "metadata": {},
   "outputs": [],
   "source": [
    "yc = np.sqrt((2*yc + np.log((6*(2*x)^50)/0.05)/x))"
   ]
  },
  {
   "cell_type": "code",
   "execution_count": 34,
   "metadata": {},
   "outputs": [],
   "source": [
    "y = np.arange(0.05, 0.15, 0.05)\n",
    "a, b = np.meshgrid(x, y)"
   ]
  },
  {
   "cell_type": "code",
   "execution_count": 35,
   "metadata": {},
   "outputs": [],
   "source": [
    "F = b\n",
    "G = np.sqrt((2*b + np.log((6*(2*a)^50)/0.05)/a))"
   ]
  },
  {
   "cell_type": "code",
   "execution_count": 38,
   "metadata": {},
   "outputs": [
    {
     "data": {
      "text/plain": [
       "<function matplotlib.pyplot.show(*args, **kw)>"
      ]
     },
     "execution_count": 38,
     "metadata": {},
     "output_type": "execute_result"
    },
    {
     "data": {
      "image/png": "[encoded data removed]",
      "text/plain": [
       "<Figure size 432x288 with 1 Axes>"
      ]
     },
     "metadata": {
      "needs_background": "light"
     },
     "output_type": "display_data"
    }
   ],
   "source": [
    "plt.contour(F-G)\n",
    "plt.show"
   ]
  },
  {
   "cell_type": "code",
   "execution_count": null,
   "metadata": {},
   "outputs": [],
   "source": []
  },
  {
   "cell_type": "code",
   "execution_count": 3,
   "metadata": {},
   "outputs": [],
   "source": [
    "#4"
   ]
  },
  {
   "cell_type": "code",
   "execution_count": 4,
   "metadata": {},
   "outputs": [],
   "source": [
    "import numpy as np"
   ]
  },
  {
   "cell_type": "code",
   "execution_count": 37,
   "metadata": {},
   "outputs": [],
   "source": [
    "#Question 4: y = ax\n",
    "def lin_regression():\n",
    "    xN = [] \n",
    "    coordinate1 = [np.random.uniform(-1, 1)]\n",
    "    coordinate2 = [np.random.uniform(-1, 1)]\n",
    "    xN.append(coordinate1)\n",
    "    xN.append(coordinate2)\n",
    "\n",
    "    def det_output(point):\n",
    "        return np.sin(np.pi * point[0])\n",
    "\n",
    "    outputs = []\n",
    "    for x in xN:\n",
    "        #create a list of outputs using det_output function for each point in dataset\n",
    "        y = det_output(x)\n",
    "        outputs.append(y)\n",
    "\n",
    "    #compute pseudo-inverse\n",
    "    xTX = np.dot(np.transpose(xN), xN)\n",
    "    pseudo = np.dot(np.linalg.inv(xTX), np.transpose(xN))\n",
    "    weights = np.dot(pseudo, outputs)\n",
    "\n",
    "    return weights"
   ]
  },
  {
   "cell_type": "code",
   "execution_count": 40,
   "metadata": {},
   "outputs": [
    {
     "name": "stdout",
     "output_type": "stream",
     "text": [
      "1.4134591264256913\n"
     ]
    }
   ],
   "source": [
    "a_array = []\n",
    "for i in range(1000):\n",
    "    a_array.append(lin_regression()[0])\n",
    "g_bar = np.average(a_array)\n",
    "print(g_bar)"
   ]
  },
  {
   "cell_type": "code",
   "execution_count": 41,
   "metadata": {},
   "outputs": [
    {
     "name": "stdout",
     "output_type": "stream",
     "text": [
      "0.2665352566984024\n"
     ]
    }
   ],
   "source": [
    "#5 \n",
    "#generate one new point\n",
    "bias_array = []\n",
    "for j in range(50000):\n",
    "    x_new = np.random.uniform(-1, 1)\n",
    "    bias = ((g_bar * x_new) - (np.sin(np.pi * x_new))) ** 2\n",
    "    bias_array.append(bias)\n",
    "print(np.average(bias_array))"
   ]
  },
  {
   "cell_type": "code",
   "execution_count": 42,
   "metadata": {},
   "outputs": [],
   "source": [
    "#6"
   ]
  },
  {
   "cell_type": "code",
   "execution_count": 44,
   "metadata": {},
   "outputs": [],
   "source": [
    "var_array = []\n",
    "for i in range(1000):\n",
    "    x_var = np.random.uniform(-1, 1)\n",
    "    for g_d in a_array:\n",
    "        var = ((g_d*x_var) - (g_bar*x_var)) ** 2\n",
    "        var_array.append(var)"
   ]
  },
  {
   "cell_type": "code",
   "execution_count": 45,
   "metadata": {},
   "outputs": [
    {
     "name": "stdout",
     "output_type": "stream",
     "text": [
      "0.2386155699467199\n"
     ]
    }
   ],
   "source": [
    "print(np.average(var_array))"
   ]
  },
  {
   "cell_type": "code",
   "execution_count": 235,
   "metadata": {},
   "outputs": [],
   "source": [
    "#7\n",
    "#find sum of bias and variance"
   ]
  },
  {
   "cell_type": "code",
   "execution_count": null,
   "metadata": {},
   "outputs": [],
   "source": []
  },
  {
   "cell_type": "code",
   "execution_count": 141,
   "metadata": {},
   "outputs": [
    {
     "name": "stdout",
     "output_type": "stream",
     "text": [
      "0.7627804859918463\n",
      "0.006232167704702785\n"
     ]
    }
   ],
   "source": [
    "#a\n",
    "a_array = []\n",
    "for i in range(1000):\n",
    "    x1 = np.random.uniform(-1, 1)\n",
    "    y1 = np.sin(np.pi * x1)\n",
    "    x2 = np.random.uniform(-1, 1)\n",
    "    y2 = np.sin(np.pi * x2)\n",
    "    a_array.append(np.average([y1, y2]))\n",
    "g_bar_a = np.average(a_array)\n",
    "bias_array = []\n",
    "for j in range(1000):\n",
    "    x_new = np.random.uniform(-1, 1)\n",
    "    bias = ((g_bar_a) - (np.sin(np.pi * x_new))) ** 2\n",
    "    bias_array.append(bias)\n",
    "bias_a = np.average(bias_array)\n",
    "\n",
    "var_array = []\n",
    "for i in range(1000):\n",
    "    for g_d in a_array:\n",
    "        var = ((g_d) - (g_bar_a)) ** 2\n",
    "        var_array.append(var)\n",
    "var_a = np.average(var_array)\n",
    "\n",
    "a_out = bias_a + var_a\n",
    "print(a_out)"
   ]
  },
  {
   "cell_type": "code",
   "execution_count": 54,
   "metadata": {},
   "outputs": [],
   "source": []
  },
  {
   "cell_type": "code",
   "execution_count": 55,
   "metadata": {},
   "outputs": [],
   "source": [
    "slope = []\n",
    "intercept = []\n",
    "for i in range(1000):\n",
    "    weight = lin_regression_ax_b()\n",
    "    slope.append(weight[1])\n",
    "    intercept.append(weight[0])\n"
   ]
  },
  {
   "cell_type": "code",
   "execution_count": 56,
   "metadata": {},
   "outputs": [
    {
     "name": "stdout",
     "output_type": "stream",
     "text": [
      "1.8267536317272022\n"
     ]
    }
   ],
   "source": [
    "g_bar_c_slope = np.average(slope)\n",
    "g_bar_c_intercept = np.average(intercept)\n",
    "\n",
    "bias_array = []\n",
    "for j in range(1000):\n",
    "    x_new = np.random.uniform(-1, 1)\n",
    "    bias = (((g_bar_c_slope * x_new) + g_bar_c_intercept) - (np.sin(np.pi * x_new))) ** 2\n",
    "    bias_array.append(bias)\n",
    "bias_c = np.average(bias_array)\n",
    "\n",
    "var_array = []\n",
    "for i in range(1000):\n",
    "    x_var = np.random.uniform(-1, 1)\n",
    "    var = (((slope[i]*x_var)+intercept[i]) - ((g_bar_c_slope * x_var) + g_bar_c_intercept)) ** 2\n",
    "    var_array.append(var)\n",
    "var_c = np.average(var_array)\n",
    "\n",
    "c_out = bias_c + var_c\n",
    "print(c_out)"
   ]
  },
  {
   "cell_type": "code",
   "execution_count": null,
   "metadata": {},
   "outputs": [],
   "source": [
    "#d"
   ]
  },
  {
   "cell_type": "code",
   "execution_count": 89,
   "metadata": {},
   "outputs": [],
   "source": [
    "def lin_regression_ax_2():\n",
    "    xN = [] \n",
    "    coordinate1 = [np.random.uniform(-1, 1)]\n",
    "    coordinate2 = [np.random.uniform(-1, 1)]\n",
    "    xN.append(coordinate1)\n",
    "    xN.append(coordinate2)\n",
    "    \n",
    "    def det_output(point):\n",
    "        return np.sin(np.pi * point[0])\n",
    "\n",
    "    outputs = []\n",
    "    for x in xN:\n",
    "        #create a list of outputs using det_output function for each point in dataset\n",
    "        y = det_output(x)\n",
    "        outputs.append(y)\n",
    "    \n",
    "    transform_data = []\n",
    "    transform_data.append(np.square(coordinate1))\n",
    "    transform_data.append(np.square(coordinate2))\n",
    "\n",
    "    #compute pseudo-inverse\n",
    "    xTX = np.dot(np.transpose(transform_data), transform_data)\n",
    "    pseudo = np.dot(np.linalg.inv(xTX), np.transpose(transform_data))\n",
    "    weights = np.dot(pseudo, outputs)\n",
    "\n",
    "    return weights"
   ]
  },
  {
   "cell_type": "code",
   "execution_count": 90,
   "metadata": {},
   "outputs": [
    {
     "name": "stdout",
     "output_type": "stream",
     "text": [
      "16.31668019334895\n"
     ]
    }
   ],
   "source": [
    "d = []\n",
    "for i in range(1000):\n",
    "    d.append(lin_regression_ax_2()[0])\n",
    "    \n",
    "g_bar_d = np.average(d)\n",
    "\n",
    "bias_array = []\n",
    "for j in range(1000):\n",
    "    x_new = np.random.uniform(-1, 1)\n",
    "    bias = ((g_bar_d * np.square(x_new)) - (np.sin(np.pi * x_new))) ** 2\n",
    "    bias_array.append(bias)\n",
    "bias_d = np.average(bias_array)\n",
    "\n",
    "var_array = []\n",
    "for i in range(1000):\n",
    "    for g_d in d:\n",
    "        x_var = np.random.uniform(-1, 1)\n",
    "        var = ((g_d*(np.square(x_var))) - (g_bar_d * np.square(x_var))) ** 2\n",
    "        var_array.append(var)\n",
    "var_d = np.average(var_array)\n",
    "\n",
    "d_out = bias_d + var_d\n",
    "print(d_out)"
   ]
  },
  {
   "cell_type": "code",
   "execution_count": 101,
   "metadata": {},
   "outputs": [
    {
     "data": {
      "text/plain": [
       "15.808927136037143"
      ]
     },
     "execution_count": 101,
     "metadata": {},
     "output_type": "execute_result"
    }
   ],
   "source": [
    "var_d"
   ]
  },
  {
   "cell_type": "code",
   "execution_count": null,
   "metadata": {},
   "outputs": [],
   "source": [
    "#e"
   ]
  },
  {
   "cell_type": "code",
   "execution_count": 142,
   "metadata": {},
   "outputs": [],
   "source": [
    "def lin_regression_ax_2_b():\n",
    "    xN = [] \n",
    "    coordinate1 = [1, np.random.uniform(-1, 1)]\n",
    "    coordinate2 = [1, np.random.uniform(-1, 1)]\n",
    "    xN.append(coordinate1)\n",
    "    xN.append(coordinate2)\n",
    "    \n",
    "    def det_output(point):\n",
    "        return np.sin(np.pi * point[1])\n",
    "    \n",
    "    outputs = []\n",
    "    for x in xN:\n",
    "        #create a list of outputs using det_output function for each point in dataset\n",
    "        y = det_output(x)\n",
    "        outputs.append(y)\n",
    "    \n",
    "    transform_data = []\n",
    "    transform_data.append([1, np.square(coordinate1[1])])\n",
    "    transform_data.append([1, np.square(coordinate2[1])])\n",
    "\n",
    "    #compute pseudo-inverse\n",
    "    xTX = np.dot(np.transpose(transform_data), transform_data)\n",
    "    pseudo = np.dot(np.linalg.inv(xTX), np.transpose(transform_data))\n",
    "    weights = np.dot(pseudo, outputs)\n",
    "\n",
    "    return weights"
   ]
  },
  {
   "cell_type": "code",
   "execution_count": 143,
   "metadata": {},
   "outputs": [],
   "source": [
    "slope = []\n",
    "intercept = []\n",
    "for i in range(100000):\n",
    "    weight = lin_regression_ax_2_b()\n",
    "    slope.append(weight[1])\n",
    "    intercept.append(weight[0])"
   ]
  },
  {
   "cell_type": "code",
   "execution_count": 144,
   "metadata": {},
   "outputs": [
    {
     "name": "stdout",
     "output_type": "stream",
     "text": [
      "84526.20759024782\n"
     ]
    }
   ],
   "source": [
    "g_bar_e_slope = np.average(slope)\n",
    "g_bar_e_intercept = np.average(intercept)\n",
    "\n",
    "bias_array = []\n",
    "for j in range(100000):\n",
    "    x_new = np.random.uniform(-1, 1)\n",
    "    bias = (((g_bar_e_slope * np.square(x_new)) + g_bar_e_intercept) - (np.sin(np.pi * x_new))) ** 2\n",
    "    bias_array.append(bias)\n",
    "bias_e = np.average(bias_array)\n",
    "\n",
    "var_array = []\n",
    "for i in range(100000):\n",
    "    x_var = np.random.uniform(-1, 1)\n",
    "    var = (((slope[i] * np.square(x_var))+intercept[i]) - ((g_bar_e_slope * np.square(x_var)) + g_bar_e_intercept)) ** 2\n",
    "    var_array.append(var)\n",
    "var_e = np.average(var_array)\n",
    "\n",
    "e_out = bias_e + var_e\n",
    "print(e_out)"
   ]
  },
  {
   "cell_type": "code",
   "execution_count": 140,
   "metadata": {},
   "outputs": [
    {
     "data": {
      "text/plain": [
       "19824.23183845736"
      ]
     },
     "execution_count": 140,
     "metadata": {},
     "output_type": "execute_result"
    }
   ],
   "source": [
    "var_e"
   ]
  },
  {
   "cell_type": "code",
   "execution_count": 83,
   "metadata": {},
   "outputs": [
    {
     "data": {
      "text/plain": [
       "9.512153560361625"
      ]
     },
     "execution_count": 83,
     "metadata": {},
     "output_type": "execute_result"
    }
   ],
   "source": [
    "bias_e"
   ]
  },
  {
   "cell_type": "code",
   "execution_count": null,
   "metadata": {},
   "outputs": [],
   "source": []
  }
 ],
 "metadata": {
  "kernelspec": {
   "display_name": "Python 3",
   "language": "python",
   "name": "python3"
  },
  "language_info": {
   "codemirror_mode": {
    "name": "ipython",
    "version": 3
   },
   "file_extension": ".py",
   "mimetype": "text/x-python",
   "name": "python",
   "nbconvert_exporter": "python",
   "pygments_lexer": "ipython3",
   "version": "3.7.1"
  }
 },
 "nbformat": 4,
 "nbformat_minor": 4
}
