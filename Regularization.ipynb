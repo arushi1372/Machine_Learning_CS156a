{
 "cells": [
  {
   "cell_type": "code",
   "execution_count": 1,
   "metadata": {},
   "outputs": [],
   "source": [
    "import numpy as np\n",
    "import math"
   ]
  },
  {
   "cell_type": "code",
   "execution_count": 2,
   "metadata": {},
   "outputs": [],
   "source": [
    "#2"
   ]
  },
  {
   "cell_type": "code",
   "execution_count": 3,
   "metadata": {},
   "outputs": [],
   "source": [
    "#read in the files\n",
    "file = open(\"in.dta.txt\", \"r\")\n",
    "lines = file.readlines()\n",
    "x_points = []\n",
    "outputs = []\n",
    "#separate outputs from points\n",
    "for x in lines:\n",
    "    x_points.append([1 , float(x.split('  ')[1]), float(x.split('  ')[2])])\n",
    "    outputs.append(float(x.split('  ')[3]))"
   ]
  },
  {
   "cell_type": "code",
   "execution_count": 4,
   "metadata": {},
   "outputs": [],
   "source": [
    "test_set = open(\"out.dta.txt\", \"r\")\n",
    "line = test_set.readlines()\n",
    "test_x = []\n",
    "test_out = []\n",
    "for y in line:\n",
    "    test_x.append([1 , float(y.split('  ')[1]), float(y.split('  ')[2])])\n",
    "    test_out.append(float(y.split('  ')[3]))"
   ]
  },
  {
   "cell_type": "code",
   "execution_count": 5,
   "metadata": {},
   "outputs": [],
   "source": [
    "#transform the points\n",
    "def transformation(point):\n",
    "    x1 = point[1]\n",
    "    x2 = point[2]\n",
    "    phi = [1, x1, x2, np.square(x1), np.square(x2), x1*x2, np.absolute(x1 - x2), np.absolute(x1 + x2)]\n",
    "    return phi"
   ]
  },
  {
   "cell_type": "code",
   "execution_count": 6,
   "metadata": {},
   "outputs": [],
   "source": [
    "transform_data = []\n",
    "transform_test = []\n",
    "for item in x_points:\n",
    "    transform = transformation(item)\n",
    "    transform_data.append(transform) \n",
    "for value in test_x:\n",
    "    transform_t = transformation(value)\n",
    "    transform_test.append(transform_t) "
   ]
  },
  {
   "cell_type": "code",
   "execution_count": 7,
   "metadata": {},
   "outputs": [],
   "source": [
    "#linear regression function with datasets as parameters\n",
    "def lin_dataset(data, output, x_test, y_test):\n",
    "    #compute pseudo-inverse\n",
    "    #check slide 11\n",
    "    xTX = np.dot(np.transpose(data), data)\n",
    "    pseudo = np.dot(np.linalg.inv(xTX), np.transpose(data))\n",
    "    weights = np.dot(pseudo, output)\n",
    "\n",
    "    incorrect = 0\n",
    "    correct = 0\n",
    "    for j in range(len(data)):\n",
    "        #find classification using line\n",
    "        f_output = output[j]\n",
    "        #find classification using weights\n",
    "        g_output = np.sign(np.dot(weights, data[j]))\n",
    "        #check accuracy\n",
    "        if f_output != g_output:\n",
    "            incorrect +=1\n",
    "        else:\n",
    "            correct += 1\n",
    "    #calculate probability of accuracy\n",
    "    E_in = incorrect/(incorrect + correct)\n",
    "    \n",
    "    incorrect_test = 0\n",
    "    correct_test = 0\n",
    "    for g in range(len(x_test)):\n",
    "        #find classification using line\n",
    "        f_out = y_test[g]\n",
    "        #find classification using weights\n",
    "        g_out = np.sign(np.dot(weights, x_test[g]))\n",
    "        #check accuracy\n",
    "        if f_out != g_out:\n",
    "            incorrect_test +=1\n",
    "        else:\n",
    "            correct_test += 1\n",
    "    #calculate probability of accuracy\n",
    "    E_out = incorrect_test/(incorrect_test + correct_test)\n",
    "    \n",
    "    return E_in, E_out"
   ]
  },
  {
   "cell_type": "code",
   "execution_count": 8,
   "metadata": {},
   "outputs": [],
   "source": [
    "E_in, E_out = lin_dataset(transform_data, outputs, transform_test, test_out)"
   ]
  },
  {
   "cell_type": "code",
   "execution_count": 9,
   "metadata": {},
   "outputs": [
    {
     "name": "stdout",
     "output_type": "stream",
     "text": [
      "0.02857142857142857\n",
      "0.084\n"
     ]
    }
   ],
   "source": [
    "print(E_in)\n",
    "print(E_out)"
   ]
  },
  {
   "cell_type": "code",
   "execution_count": 10,
   "metadata": {},
   "outputs": [],
   "source": [
    "#3 - add weight decay"
   ]
  },
  {
   "cell_type": "code",
   "execution_count": 13,
   "metadata": {},
   "outputs": [],
   "source": [
    "def lin_regular(data, output, x_test, y_test, k):\n",
    "    #compute pseudo-inverse #try matmul\n",
    "    #check slide 11\n",
    "    xTX = np.dot(np.transpose(data), data)\n",
    "    print(xTX.shape)\n",
    "    add_regular = xTX + ((math.pow(10, k)) * np.identity(8))\n",
    "    pseudo = np.dot(np.linalg.inv(add_regular), np.transpose(data))\n",
    "    weights = np.dot(pseudo, output)\n",
    "\n",
    "    incorrect = 0\n",
    "    correct = 0\n",
    "    for j in range(len(data)):\n",
    "        #find classification using line\n",
    "        f_output = output[j]\n",
    "        #find classification using weights\n",
    "        g_output = np.sign(np.dot(weights, data[j]))\n",
    "        #check accuracy\n",
    "        if f_output != g_output:\n",
    "            incorrect +=1\n",
    "        else:\n",
    "            correct += 1\n",
    "    #calculate probability of accuracy\n",
    "    E_in = incorrect/(incorrect + correct)\n",
    "    \n",
    "    incorrect_test = 0\n",
    "    correct_test = 0\n",
    "    for g in range(len(x_test)):\n",
    "        #find classification using line\n",
    "        f_out = y_test[g]\n",
    "        #find classification using weights\n",
    "        g_out = np.sign(np.dot(weights, x_test[g]))\n",
    "        #check accuracy\n",
    "        if f_out != g_out:\n",
    "            incorrect_test +=1\n",
    "        else:\n",
    "            correct_test += 1\n",
    "    #calculate probability of accuracy\n",
    "    E_out = incorrect_test/(incorrect_test + correct_test)\n",
    "    \n",
    "    return E_in, E_out"
   ]
  },
  {
   "cell_type": "code",
   "execution_count": 14,
   "metadata": {},
   "outputs": [
    {
     "name": "stdout",
     "output_type": "stream",
     "text": [
      "(8, 8)\n"
     ]
    }
   ],
   "source": [
    "E_in, E_out = lin_regular(transform_data, outputs, transform_test, test_out, -3)"
   ]
  },
  {
   "cell_type": "code",
   "execution_count": 91,
   "metadata": {},
   "outputs": [
    {
     "name": "stdout",
     "output_type": "stream",
     "text": [
      "0.02857142857142857\n",
      "0.08\n"
     ]
    }
   ],
   "source": [
    "print(E_in)\n",
    "print(E_out)"
   ]
  },
  {
   "cell_type": "code",
   "execution_count": 92,
   "metadata": {},
   "outputs": [
    {
     "name": "stdout",
     "output_type": "stream",
     "text": [
      "0.37142857142857144\n",
      "0.436\n"
     ]
    }
   ],
   "source": [
    "E_in, E_out = lin_regular(transform_data, outputs, transform_test, test_out, 3)\n",
    "print(E_in)\n",
    "print(E_out)"
   ]
  },
  {
   "cell_type": "code",
   "execution_count": 93,
   "metadata": {},
   "outputs": [
    {
     "name": "stdout",
     "output_type": "stream",
     "text": [
      "0.228\n",
      "0.124\n",
      "0.092\n",
      "0.056\n",
      "0.084\n"
     ]
    }
   ],
   "source": [
    "E_in, E_out = lin_regular(transform_data, outputs, transform_test, test_out, 2)\n",
    "print(E_out)\n",
    "E_in, E_out = lin_regular(transform_data, outputs, transform_test, test_out, 1)\n",
    "print(E_out)\n",
    "E_in, E_out = lin_regular(transform_data, outputs, transform_test, test_out, 0)\n",
    "print(E_out)\n",
    "E_in, E_out = lin_regular(transform_data, outputs, transform_test, test_out, -1)\n",
    "print(E_out)\n",
    "E_in, E_out = lin_regular(transform_data, outputs, transform_test, test_out, -2)\n",
    "print(E_out)"
   ]
  },
  {
   "cell_type": "code",
   "execution_count": 97,
   "metadata": {},
   "outputs": [
    {
     "name": "stdout",
     "output_type": "stream",
     "text": [
      "-2 : 0.084\n",
      "-1 : 0.056\n",
      "0 : 0.092\n",
      "1 : 0.124\n",
      "2 : 0.228\n"
     ]
    }
   ],
   "source": [
    "for k in range(-2, 3):\n",
    "    E_in, E_out = lin_regular(transform_data, outputs, transform_test, test_out, k)\n",
    "    print(k, \":\", E_out)"
   ]
  },
  {
   "cell_type": "code",
   "execution_count": 103,
   "metadata": {},
   "outputs": [
    {
     "name": "stdout",
     "output_type": "stream",
     "text": [
      "-1 0.056\n"
     ]
    }
   ],
   "source": [
    "E_val = 1\n",
    "k_val = 0\n",
    "for x in range(-4, 4):\n",
    "    E_in, E_out = lin_regular(transform_data, outputs, transform_test, test_out, x)\n",
    "    if E_out < E_val:\n",
    "        E_val = E_out\n",
    "        k_val = x\n",
    "print(k_val, E_val)"
   ]
  },
  {
   "cell_type": "code",
   "execution_count": null,
   "metadata": {},
   "outputs": [],
   "source": []
  }
 ],
 "metadata": {
  "kernelspec": {
   "display_name": "Python 3",
   "language": "python",
   "name": "python3"
  },
  "language_info": {
   "codemirror_mode": {
    "name": "ipython",
    "version": 3
   },
   "file_extension": ".py",
   "mimetype": "text/x-python",
   "name": "python",
   "nbconvert_exporter": "python",
   "pygments_lexer": "ipython3",
   "version": "3.7.1"
  }
 },
 "nbformat": 4,
 "nbformat_minor": 4
}
