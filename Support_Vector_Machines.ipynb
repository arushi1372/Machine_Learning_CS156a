{
 "cells": [
  {
   "cell_type": "code",
   "execution_count": 1,
   "metadata": {},
   "outputs": [],
   "source": [
    "from sklearn import svm\n",
    "import numpy as np"
   ]
  },
  {
   "cell_type": "code",
   "execution_count": null,
   "metadata": {},
   "outputs": [],
   "source": []
  },
  {
   "cell_type": "code",
   "execution_count": 2,
   "metadata": {},
   "outputs": [],
   "source": [
    "#read in the training files\n",
    "file = open(\"features.train.txt\", \"r\")\n",
    "lines = file.readlines()\n",
    "digits = []\n",
    "train_data = []\n",
    "#separate outputs from points\n",
    "for x in lines:\n",
    "    digits.append([float(x.split('  ')[1])])\n",
    "    #create training data with just intensity and symmetry\n",
    "    train_data.append([float(x.split('  ')[2]), float(x.split('  ')[3])])\n",
    "\n",
    "#read in the testing files\n",
    "test_set = open(\"features.test.txt\", \"r\")\n",
    "line = test_set.readlines()\n",
    "test_digit = []\n",
    "test_data = []\n",
    "for y in line:\n",
    "    test_digit.append([float(y.split('  ')[1])])\n",
    "    test_data.append([float(y.split('  ')[2]), float(y.split('  ')[3])])"
   ]
  },
  {
   "cell_type": "code",
   "execution_count": 3,
   "metadata": {},
   "outputs": [],
   "source": [
    "def classifier(file, digit):\n",
    "    outputs = []\n",
    "    for i in range(len(file)):\n",
    "        if float(file[i][0]) == digit:\n",
    "            outputs.append(1)\n",
    "        else:\n",
    "            outputs.append(-1)\n",
    "    return outputs"
   ]
  },
  {
   "cell_type": "code",
   "execution_count": 125,
   "metadata": {},
   "outputs": [],
   "source": [
    "#SVM\n",
    "#classifiers = [1.0, 3.0, 5.0, 7.0, 9.0]\n",
    "classifiers = [0.0, 2.0, 4.0, 6.0, 8.0]\n",
    "errors = []\n",
    "vectors = []\n",
    "for num in classifiers:\n",
    "    model = svm.SVC(C=0.01, kernel='poly', degree = 2, coef0 = 1, gamma = 1)\n",
    "    output = classifier(digits, num)\n",
    "    model.fit(train_data, output)\n",
    "    errors.append( 1 - (model.score(train_data, output)))\n",
    "    vectors_num = len(model.support_)\n",
    "    vectors.append(vectors_num)"
   ]
  },
  {
   "cell_type": "code",
   "execution_count": 126,
   "metadata": {},
   "outputs": [
    {
     "name": "stdout",
     "output_type": "stream",
     "text": [
      "classifier:  0.0\n",
      "E_in:  0.10588396653408316\n",
      "Support vectors: 2179\n",
      "classifier:  2.0\n",
      "E_in:  0.10026059525442321\n",
      "Support vectors: 1970\n",
      "classifier:  4.0\n",
      "E_in:  0.08942531888629812\n",
      "Support vectors: 1856\n",
      "classifier:  6.0\n",
      "E_in:  0.09107118365107669\n",
      "Support vectors: 1893\n",
      "classifier:  8.0\n",
      "E_in:  0.074338225209162\n",
      "Support vectors: 1776\n"
     ]
    }
   ],
   "source": [
    "for i in range(len(classifiers)):\n",
    "    print(\"classifier: \", classifiers[i])\n",
    "    print(\"E_in: \", errors[i])\n",
    "    print(\"Support vectors:\", vectors[i])"
   ]
  },
  {
   "cell_type": "code",
   "execution_count": null,
   "metadata": {},
   "outputs": [],
   "source": [
    "#5"
   ]
  },
  {
   "cell_type": "code",
   "execution_count": 4,
   "metadata": {},
   "outputs": [],
   "source": [
    "outputs = []\n",
    "one_five_train = []\n",
    "for i in range(len(digits)):\n",
    "    if float(digits[i][0]) == 1:\n",
    "        outputs.append(1)\n",
    "        one_five_train.append(train_data[i])\n",
    "    if float(digits[i][0]) == 5:\n",
    "        outputs.append(-1)\n",
    "        one_five_train.append(train_data[i])"
   ]
  },
  {
   "cell_type": "code",
   "execution_count": 5,
   "metadata": {},
   "outputs": [],
   "source": [
    "test_outputs = []\n",
    "one_five_test = []\n",
    "for i in range(len(test_digit)):\n",
    "    if float(test_digit[i][0]) == 1:\n",
    "        test_outputs.append(1)\n",
    "        one_five_test.append(test_data[i])\n",
    "    if float(test_digit[i][0]) == 5:\n",
    "        test_outputs.append(-1)\n",
    "        one_five_test.append(test_data[i])"
   ]
  },
  {
   "cell_type": "code",
   "execution_count": 7,
   "metadata": {},
   "outputs": [],
   "source": [
    "c_vals = [0.0001, 0.001, 0.01, 0.1, 1]\n",
    "vectors = []\n",
    "errors = []\n",
    "E_outs = []\n",
    "for c_val in c_vals:\n",
    "    model = svm.SVC(C=c_val, kernel='poly', degree = 2, coef0 = 1, gamma = 1)\n",
    "    errors.append(1 - (model.fit(one_five_train, outputs).score(one_five_train, outputs)))\n",
    "    E_outs.append(1 - (model.fit(one_five_train, outputs).score(one_five_test, test_outputs)))\n",
    "    vectors_num = len(model.support_)\n",
    "    vectors.append(vectors_num)"
   ]
  },
  {
   "cell_type": "code",
   "execution_count": 8,
   "metadata": {},
   "outputs": [
    {
     "name": "stdout",
     "output_type": "stream",
     "text": [
      "Q = 2\n",
      "C:  0.0001\n",
      "E_in:  0.008968609865470878\n",
      "Support vectors: 236\n",
      "E_out:  0.01650943396226412\n",
      "C:  0.001\n",
      "E_in:  0.004484304932735439\n",
      "Support vectors: 76\n",
      "E_out:  0.01650943396226412\n",
      "C:  0.01\n",
      "E_in:  0.004484304932735439\n",
      "Support vectors: 34\n",
      "E_out:  0.018867924528301883\n",
      "C:  0.1\n",
      "E_in:  0.004484304932735439\n",
      "Support vectors: 24\n",
      "E_out:  0.018867924528301883\n",
      "C:  1\n",
      "E_in:  0.0032030749519538215\n",
      "Support vectors: 24\n",
      "E_out:  0.018867924528301883\n"
     ]
    }
   ],
   "source": [
    "print(\"Q = 2\")\n",
    "for i in range(len(c_vals)):\n",
    "    print(\"C: \", c_vals[i])\n",
    "    print(\"E_in: \", errors[i])\n",
    "    print(\"Support vectors:\", vectors[i])\n",
    "    print(\"E_out: \", E_outs[i])"
   ]
  },
  {
   "cell_type": "code",
   "execution_count": 9,
   "metadata": {},
   "outputs": [],
   "source": [
    "vectors = []\n",
    "errors = []\n",
    "E_outs = []\n",
    "for c_val in c_vals:\n",
    "    model = svm.SVC(C=c_val, kernel='poly', degree = 5, coef0 = 1, gamma = 1)\n",
    "    errors.append(1 - (model.fit(one_five_train, outputs).score(one_five_train, outputs)))\n",
    "    E_outs.append(1 - (model.fit(one_five_train, outputs).score(one_five_test, test_outputs)))\n",
    "    vectors_num = len(model.support_)\n",
    "    vectors.append(vectors_num)"
   ]
  },
  {
   "cell_type": "code",
   "execution_count": 10,
   "metadata": {},
   "outputs": [
    {
     "name": "stdout",
     "output_type": "stream",
     "text": [
      "Q = 5\n",
      "C:  0.0001\n",
      "E_in:  0.004484304932735439\n",
      "Support vectors: 26\n",
      "E_out:  0.018867924528301883\n",
      "C:  0.001\n",
      "E_in:  0.004484304932735439\n",
      "Support vectors: 25\n",
      "E_out:  0.021226415094339646\n",
      "C:  0.01\n",
      "E_in:  0.0038436899423446302\n",
      "Support vectors: 23\n",
      "E_out:  0.021226415094339646\n",
      "C:  0.1\n",
      "E_in:  0.0032030749519538215\n",
      "Support vectors: 25\n",
      "E_out:  0.018867924528301883\n",
      "C:  1\n",
      "E_in:  0.0032030749519538215\n",
      "Support vectors: 21\n",
      "E_out:  0.021226415094339646\n"
     ]
    }
   ],
   "source": [
    "print(\"Q = 5\")\n",
    "for i in range(len(c_vals)):\n",
    "    print(\"C: \", c_vals[i])\n",
    "    print(\"E_in: \", errors[i])\n",
    "    print(\"Support vectors:\", vectors[i])\n",
    "    print(\"E_out: \", E_outs[i])"
   ]
  },
  {
   "cell_type": "code",
   "execution_count": 128,
   "metadata": {},
   "outputs": [],
   "source": [
    "#7"
   ]
  },
  {
   "cell_type": "code",
   "execution_count": 14,
   "metadata": {},
   "outputs": [],
   "source": [
    "from sklearn.model_selection import KFold\n",
    "from statistics import mode"
   ]
  },
  {
   "cell_type": "code",
   "execution_count": 15,
   "metadata": {},
   "outputs": [],
   "source": [
    "c_vals = [0.0001, 0.001, 0.01, 0.1, 1]\n",
    "one_five_train = np.array(one_five_train)\n",
    "outputs = np.array(outputs)"
   ]
  },
  {
   "cell_type": "code",
   "execution_count": 37,
   "metadata": {},
   "outputs": [],
   "source": [
    "chosen_c_val = []\n",
    "for a in range(1000):\n",
    "    c_val_dict = {}\n",
    "    kf = KFold(n_splits=10, shuffle=True)\n",
    "    for c_val in c_vals: \n",
    "        errors = []\n",
    "        for train_index, test_index in kf.split(one_five_train):\n",
    "            X_train, X_test, y_train, y_test = one_five_train[train_index], one_five_train[test_index], outputs[train_index], outputs[test_index]\n",
    "            model = svm.SVC(C=c_val, kernel='poly', degree = 2, coef0 = 1, gamma = 1)\n",
    "            errors.append(1 - (model.fit(X_train, y_train).score(X_test, y_test)))\n",
    "        c_val_dict[c_val] = np.average(errors)\n",
    "    chosen = [k for k, v in c_val_dict.items() if v == min(c_val_dict.values())]\n",
    "    if len(chosen) > 1:\n",
    "        minimum = min(chosen)\n",
    "    else:\n",
    "        minimum = chosen[0]\n",
    "    chosen_c_val.append(minimum)"
   ]
  },
  {
   "cell_type": "code",
   "execution_count": 38,
   "metadata": {},
   "outputs": [
    {
     "name": "stdout",
     "output_type": "stream",
     "text": [
      "0.01\n"
     ]
    }
   ],
   "source": [
    "new_c = mode(chosen_c_val)\n",
    "print(new_c)"
   ]
  },
  {
   "cell_type": "code",
   "execution_count": 42,
   "metadata": {},
   "outputs": [
    {
     "data": {
      "text/plain": [
       "203"
      ]
     },
     "execution_count": 42,
     "metadata": {},
     "output_type": "execute_result"
    }
   ],
   "source": [
    "chosen_c_val.count(.1)"
   ]
  },
  {
   "cell_type": "code",
   "execution_count": 46,
   "metadata": {},
   "outputs": [],
   "source": [
    "Ecv = []\n",
    "for a in range(100):\n",
    "    kf = KFold(n_splits=10, shuffle=True) \n",
    "    errors = []\n",
    "    for train_index, test_index in kf.split(one_five_train):\n",
    "        X_train, X_test, y_train, y_test = one_five_train[train_index], one_five_train[test_index], outputs[train_index], outputs[test_index]\n",
    "        model = svm.SVC(C=new_c, kernel='poly', degree = 2, coef0 = 1, gamma = 1)\n",
    "        errors.append(1 - (model.fit(X_train, y_train).score(X_test, y_test)))\n",
    "    Ecv.append(np.average(errors))"
   ]
  },
  {
   "cell_type": "code",
   "execution_count": 47,
   "metadata": {},
   "outputs": [
    {
     "data": {
      "text/plain": [
       "0.004702147640045716"
      ]
     },
     "execution_count": 47,
     "metadata": {},
     "output_type": "execute_result"
    }
   ],
   "source": [
    "np.average(Ecv)"
   ]
  },
  {
   "cell_type": "code",
   "execution_count": 11,
   "metadata": {},
   "outputs": [],
   "source": [
    "#9\n",
    "import math"
   ]
  },
  {
   "cell_type": "code",
   "execution_count": 12,
   "metadata": {},
   "outputs": [],
   "source": [
    "C_s = [0.01, 1, 100, math.pow(10, 4), math.pow(10, 6)]\n",
    "errors = []\n",
    "E_outs = []\n",
    "for c_val in C_s:\n",
    "    model = svm.SVC(C=c_val, kernel='rbf', gamma = 1)\n",
    "    errors.append(1 - (model.fit(one_five_train, outputs).score(one_five_train, outputs)))\n",
    "    E_outs.append( 1 - (model.fit(one_five_train, outputs).score(one_five_test, test_outputs)))"
   ]
  },
  {
   "cell_type": "code",
   "execution_count": 13,
   "metadata": {},
   "outputs": [
    {
     "name": "stdout",
     "output_type": "stream",
     "text": [
      "C:  0.01\n",
      "E_in:  0.0038436899423446302\n",
      "E_out:  0.02358490566037741\n",
      "C:  1\n",
      "E_in:  0.004484304932735439\n",
      "E_out:  0.021226415094339646\n",
      "C:  100\n",
      "E_in:  0.0032030749519538215\n",
      "E_out:  0.018867924528301883\n",
      "C:  10000.0\n",
      "E_in:  0.002562459961563124\n",
      "E_out:  0.02358490566037741\n",
      "C:  1000000.0\n",
      "E_in:  0.0006406149903908087\n",
      "E_out:  0.02358490566037741\n"
     ]
    }
   ],
   "source": [
    "for i in range(len(C_s)):\n",
    "    print(\"C: \", C_s[i])\n",
    "    print(\"E_in: \", errors[i])\n",
    "    print(\"E_out: \", E_outs[i])"
   ]
  },
  {
   "cell_type": "code",
   "execution_count": null,
   "metadata": {},
   "outputs": [],
   "source": []
  }
 ],
 "metadata": {
  "kernelspec": {
   "display_name": "Python 3",
   "language": "python",
   "name": "python3"
  },
  "language_info": {
   "codemirror_mode": {
    "name": "ipython",
    "version": 3
   },
   "file_extension": ".py",
   "mimetype": "text/x-python",
   "name": "python",
   "nbconvert_exporter": "python",
   "pygments_lexer": "ipython3",
   "version": "3.7.1"
  }
 },
 "nbformat": 4,
 "nbformat_minor": 4
}
